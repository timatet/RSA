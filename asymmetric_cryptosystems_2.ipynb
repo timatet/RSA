{
 "cells": [
  {
   "attachments": {},
   "cell_type": "markdown",
   "metadata": {},
   "source": [
    "### Ассиметричные криптосистемы"
   ]
  },
  {
   "attachments": {},
   "cell_type": "markdown",
   "metadata": {},
   "source": [
    "2. Абонент $ A $ использует для получения сообщений систему широфрования RSA с публичным ключом $ (n, e) $. \n",
    "\n",
    "    Известно что ради ускорения процесса расшифрования была выбрана небольшая секретная экспонента $ d $. Расшифруйте перехваченный шифртекст $ c $."
   ]
  },
  {
   "cell_type": "code",
   "execution_count": null,
   "metadata": {},
   "outputs": [],
   "source": [
    "from math import gcd, sqrt, log2\n",
    "from random import randint, randrange\n",
    "\n",
    "def get_continued_fraction(n, d):\n",
    "    if d == 0: return []\n",
    "    q = n // d\n",
    "    r = n - q * d\n",
    "    \n",
    "    return list([q] + get_continued_fraction(d, r))\n",
    "\n",
    "def get_suitable_fractions(continued_fraction):   \n",
    "    P_i = [1, continued_fraction[0]]\n",
    "    Q_i = [0, 1]\n",
    "    \n",
    "    suit_fractions = [(continued_fraction[0], 1)]\n",
    "    \n",
    "    for q_i in continued_fraction[1:]:\n",
    "        P_i_frac = q_i * P_i[-1] + P_i[-2]\n",
    "        Q_i_frac = q_i * Q_i[-1] + Q_i[-2]\n",
    "        \n",
    "        P_i += [P_i_frac]\n",
    "        Q_i += [Q_i_frac]\n",
    "        suit_fractions += [(P_i_frac, Q_i_frac)]\n",
    "    \n",
    "    return suit_fractions\n"
   ]
  },
  {
   "cell_type": "code",
   "execution_count": null,
   "metadata": {},
   "outputs": [],
   "source": [
    "n = 21528602737995391300012535084267227899361419705199874760609235681054303785224024295570748550796236036212949286574161296792254430783679771401596372581872591 \n",
    "e = 711791206508065504403302368078590689843077140265797606213235223296137670305805027820667521880715587970022204466445140208808548138235995401680863290780459\n",
    "c = 15799153357445478240288839911066019028077283716455587626794207520230591533655493416486696862948244065350950879444627965368093188855937284567490262542346655"
   ]
  },
  {
   "cell_type": "code",
   "execution_count": null,
   "metadata": {},
   "outputs": [],
   "source": [
    "n = 46734953909266580369790223585531823881648452853941872197192099454322838856408960995156448243921899304772671842028227478952856848052537569907366209411472757 \n",
    "e = 14279614140813784570625568492835804955911223449129720491724911685913126780606055061292854280783197785711268136661461831102028407082744822923151598510748473\n",
    "c = 11571953884231255318030645141940569557190573341468325984514401043379477542646631266941975798723058554279966599060274095353674932902229697607992818238578770"
   ]
  },
  {
   "cell_type": "code",
   "execution_count": null,
   "metadata": {},
   "outputs": [],
   "source": [
    "# n = 20877883098885877013699647821429031503190391460230003543715299644364872002091950539082544531313848020341031127874664480931637060790175415831157657814191581 \n",
    "# e = 19468725711809601246696562549293908519171621181125997179918476018086094679877506431162858880778566101577530773854115984722951237406054492128736463201579345\n",
    "# c = 2223006544319739471672207909561425312583806076688015376211122387783401540639526670408168092971662176006363010649320420431764947673845222086651247242579172"
   ]
  },
  {
   "cell_type": "code",
   "execution_count": null,
   "metadata": {},
   "outputs": [],
   "source": [
    "sit_fracs = get_suitable_fractions(get_continued_fraction(n, e))\n",
    "\n",
    "print(sit_fracs)\n",
    "\n",
    "for s_f in sit_fracs:\n",
    "    m = randrange(1, 1000000)\n",
    "    if pow(m, e * s_f[0], n) == m % n:\n",
    "        print(s_f[0])\n",
    "        ans = pow(c, s_f[0], n)\n",
    "        print(ans)\n",
    "        break\n"
   ]
  }
 ],
 "metadata": {
  "kernelspec": {
   "display_name": "Python 3",
   "language": "python",
   "name": "python3"
  },
  "language_info": {
   "codemirror_mode": {
    "name": "ipython",
    "version": 3
   },
   "file_extension": ".py",
   "mimetype": "text/x-python",
   "name": "python",
   "nbconvert_exporter": "python",
   "pygments_lexer": "ipython3",
   "version": "3.8.10"
  },
  "orig_nbformat": 4
 },
 "nbformat": 4,
 "nbformat_minor": 2
}
